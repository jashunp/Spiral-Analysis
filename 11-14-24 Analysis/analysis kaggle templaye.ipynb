{
 "cells": [
  {
   "cell_type": "code",
   "execution_count": null,
   "metadata": {},
   "outputs": [],
   "source": [
    "import os\n",
    "import cv2\n",
    "import numpy as np\n",
    "from skimage import feature\n",
    "import random\n",
    "import matplotlib.pyplot as plt\n",
    "%matplotlib inline"
   ]
  },
  {
   "cell_type": "code",
   "execution_count": null,
   "metadata": {},
   "outputs": [],
   "source": [
    "def quantify_image(image):\n",
    "    features = feature.hog(image, orientations=9,\n",
    "                           pixels_per_cell=(10, 10), cells_per_block=(2, 2),\n",
    "                           transform_sqrt=True, block_norm=\"L1\")\n",
    "    return features"
   ]
  },
  {
   "cell_type": "code",
   "execution_count": null,
   "metadata": {},
   "outputs": [],
   "source": [
    "def load_split(path):\n",
    "    # grab the list of images in the input directory, then initialize\n",
    "    # the list of data (i.e., images) and class labels\n",
    "    imagePaths = list(paths.list_images(path))\n",
    "    data = []\n",
    "    labels = []\n",
    "    # loop over the image paths\n",
    "    for imagePath in imagePaths:\n",
    "        # extract the class label from the filename\n",
    "        label = imagePath.split(os.path.sep)[-2]\n",
    "        # load the input image, convert it to grayscale, and resize\n",
    "        # it to 200x200 pixels, ignoring aspect ratio\n",
    "        image = cv2.imread(imagePath)\n",
    "        image = cv2.cvtColor(image, cv2.COLOR_BGR2GRAY)\n",
    "        image = cv2.resize(image, (200, 200))\n",
    "        # threshold the image such that the drawing appears as white\n",
    "        # on a black background\n",
    "        image = cv2.threshold(image, 0, 255,\n",
    "                              cv2.THRESH_BINARY_INV | cv2.THRESH_OTSU)[1]\n",
    "        # quantify the image\n",
    "        features = quantify_image(image)\n",
    "        # update the data and labels lists, respectively\n",
    "        data.append(features)\n",
    "        labels.append(label)\n",
    "    return (np.array(data), np.array(labels))"
   ]
  },
  {
   "cell_type": "code",
   "execution_count": null,
   "metadata": {},
   "outputs": [],
   "source": [
    "!pip install imutils\n",
    "from imutils import paths\n",
    "from sklearn.preprocessing import LabelEncoder\n",
    "from sklearn.ensemble import RandomForestClassifier\n",
    "from xgboost import XGBClassifier\n",
    "from sklearn.metrics import confusion_matrix"
   ]
  },
  {
   "cell_type": "code",
   "execution_count": null,
   "metadata": {},
   "outputs": [],
   "source": [
    "def train_models(dataset):\n",
    "    # initialize the models\n",
    "    models = {\n",
    "        \"Rf\": {\n",
    "            \"classifier\": RandomForestClassifier(random_state=1),\n",
    "            \"accuracy\": 0,\n",
    "            \"sensitivity\": 0,\n",
    "            \"specificity\": 0,\n",
    "        },\n",
    "        \"Xgb\": {\n",
    "            \"classifier\": XGBClassifier(),\n",
    "            \"accuracy\": 0,\n",
    "            \"sensitivity\": 0,\n",
    "            \"specificity\": 0,\n",
    "        }\n",
    "    }\n",
    "    # define the path to the testing and training directories\n",
    "    path = \"../input/parkinsons-drawings/\" + dataset\n",
    "    trainingPath = os.path.sep.join([path, \"training\"])\n",
    "    testingPath = os.path.sep.join([path, \"testing\"])\n",
    "    # load the data\n",
    "    (trainX, trainY) = load_split(trainingPath)\n",
    "    (testX, testY) = load_split(testingPath)\n",
    "    # encode the labels\n",
    "    le = LabelEncoder()\n",
    "    trainY = le.fit_transform(trainY)\n",
    "    testY = le.transform(testY)\n",
    "\n",
    "    # train each model and calculate its metrics\n",
    "    for model in models:\n",
    "        models[model][\"classifier\"].fit(trainX, trainY)\n",
    "        predictions = models[model][\"classifier\"].predict(testX)\n",
    "        cm = confusion_matrix(testY, predictions).ravel()\n",
    "        tn, fp, fn, tp = cm\n",
    "        models[model][\"accuracy\"] = (tp + tn) / float(cm.sum())\n",
    "        models[model][\"sensitivity\"] = tp / float(tp + fn)\n",
    "        models[model][\"specificity\"] = tn / float(tn + fp)\n",
    "\n",
    "    return models"
   ]
  },
  {
   "cell_type": "code",
   "execution_count": null,
   "metadata": {},
   "outputs": [],
   "source": [
    "# Train the models on the spiral drawings\n",
    "spiralModels = train_models('spiral')"
   ]
  },
  {
   "cell_type": "code",
   "execution_count": null,
   "metadata": {},
   "outputs": [],
   "source": [
    "# train the model on the wave-form drawings\n",
    "waveModels = train_models('wave')"
   ]
  },
  {
   "cell_type": "code",
   "execution_count": null,
   "metadata": {},
   "outputs": [],
   "source": [
    "print(\"Random Forrest vs XGBoost Classifier\\n\\n\")\n",
    "for metric in (\"accuracy\", \"sensitivity\", \"specificity\"):\n",
    "    print(f\"{metric.capitalize()}: \")\n",
    "    print(\"Random Forrest={:.2f}%, XGBoost={:.2f}% \\n\".format(\n",
    "        spiralModels['Rf'][metric]*100, spiralModels['Xgb'][metric]*100))"
   ]
  },
  {
   "cell_type": "code",
   "execution_count": null,
   "metadata": {},
   "outputs": [],
   "source": [
    "print(\"Random Forrest vs XGBoost Classifier\\n\\n\")\n",
    "for metric in (\"accuracy\", \"sensitivity\", \"specificity\"):\n",
    "    print(f\"{metric.capitalize()}: \")\n",
    "    print(\"Random Forrest={:.2f}%, XGBoost={:.2f}% \\n\".format(\n",
    "        waveModels['Rf'][metric]*100, waveModels['Xgb'][metric]*100))"
   ]
  },
  {
   "cell_type": "code",
   "execution_count": null,
   "metadata": {},
   "outputs": [],
   "source": [
    "def test_prediction(model, testingPath):\n",
    "    # get the list of images\n",
    "    testingPaths = list(paths.list_images(testingPath))\n",
    "    output_images = []\n",
    "    # pick 15 images at random\n",
    "    for _ in range(15):\n",
    "        image = cv2.imread(random.choice(testingPaths))\n",
    "        output = image.copy()\n",
    "        output = cv2.resize(output, (128, 128))\n",
    "        # pre-process the image\n",
    "        image = cv2.cvtColor(image, cv2.COLOR_BGR2GRAY)\n",
    "        image = cv2.resize(image, (200, 200))\n",
    "        image = cv2.threshold(image, 0, 255,\n",
    "                              cv2.THRESH_BINARY_INV | cv2.THRESH_OTSU)[1]\n",
    "        # quantify the image and make predictions based on the extracted features\n",
    "        features = quantify_image(image)\n",
    "        preds = model.predict([features])\n",
    "        label = \"Parkinsons\" if preds[0] else \"Healthy\"\n",
    "\n",
    "        # draw the colored class label on the output image and add it to\n",
    "        # the set of output images\n",
    "        color = (0, 255, 0) if label == \"Healthy\" else (0, 0, 255)\n",
    "        cv2.putText(output, label, (3, 20), cv2.FONT_HERSHEY_SIMPLEX, 0.5,\n",
    "                    color, 2)\n",
    "        output_images.append(output)\n",
    "    plt.figure(figsize=(20, 20))\n",
    "    for i in range(len(output_images)):\n",
    "        plt.subplot(5, 5, i+1)\n",
    "        plt.imshow(output_images[i])\n",
    "        plt.axis(\"off\")\n",
    "    plt.show()"
   ]
  },
  {
   "cell_type": "code",
   "execution_count": null,
   "metadata": {},
   "outputs": [],
   "source": [
    "testingPath = os.path.sep.join([\"../input/parkinsons-drawings/spiral\", \"testing\"])\n",
    "test_prediction(spiralModels['Rf']['classifier'], test"
   ]
  },
  {
   "cell_type": "code",
   "execution_count": null,
   "metadata": {},
   "outputs": [],
   "source": [
    "testingPath = os.path.sep.join([\"../input/parkinsons-drawings/wave\", \"testing\"])\n",
    "test_prediction(waveModels['Rf']['classifier'], testingPath)\n"
   ]
  }
 ],
 "metadata": {
  "kernelspec": {
   "display_name": "Python 3",
   "language": "python",
   "name": "python3"
  },
  "language_info": {
   "name": "python",
   "version": "3.11.9"
  }
 },
 "nbformat": 4,
 "nbformat_minor": 2
}
