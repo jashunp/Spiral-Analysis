{
 "cells": [
  {
   "cell_type": "code",
   "execution_count": null,
   "metadata": {},
   "outputs": [
    {
     "ename": "ModuleNotFoundError",
     "evalue": "No module named 'sklearn'",
     "output_type": "error",
     "traceback": [
      "\u001b[1;31m---------------------------------------------------------------------------\u001b[0m",
      "\u001b[1;31mModuleNotFoundError\u001b[0m                       Traceback (most recent call last)",
      "Cell \u001b[1;32mIn[1], line 3\u001b[0m\n\u001b[0;32m      1\u001b[0m \u001b[38;5;66;03m#11\u001b[39;00m\n\u001b[1;32m----> 3\u001b[0m \u001b[38;5;28;01mfrom\u001b[39;00m \u001b[38;5;21;01msklearn\u001b[39;00m\u001b[38;5;21;01m.\u001b[39;00m\u001b[38;5;21;01mensemble\u001b[39;00m \u001b[38;5;28;01mimport\u001b[39;00m RandomForestClassifier\n\u001b[0;32m      4\u001b[0m \u001b[38;5;28;01mfrom\u001b[39;00m \u001b[38;5;21;01msklearn\u001b[39;00m \u001b[38;5;241m.\u001b[39mpreprocessing \u001b[38;5;28;01mimport\u001b[39;00m \u001b[38;5;21;01mLabelEncoder\u001b[39;00m\n\u001b[0;32m      5\u001b[0m \u001b[38;5;28;01mfrom\u001b[39;00m \u001b[38;5;21;01msklearn\u001b[39;00m\u001b[38;5;21;01m.\u001b[39;00m\u001b[38;5;21;01mmetrics\u001b[39;00m \u001b[38;5;28;01mimport\u001b[39;00m confusion_matrix\n",
      "\u001b[1;31mModuleNotFoundError\u001b[0m: No module named 'sklearn'"
     ]
    }
   ],
   "source": [
    "\n",
    "from sklearn.ensemble import RandomForestClassifier\n",
    "from sklearn .preprocessing import LabelEncoder\n",
    "from sklearn.metrics import confusion_matrix\n",
    "from skimage import feature\n",
    "from imutils import build_montages\n",
    "from imutils import paths\n",
    "import numpy as np\n",
    "import argparse\n",
    "import cv2\n",
    "import os\n",
    "import xgboost as xgb\n",
    "import imageio"
   ]
  },
  {
   "cell_type": "code",
   "execution_count": null,
   "metadata": {},
   "outputs": [],
   "source": [
    "def quantify_image(image):\n",
    "    # compute the HOG feature vector for the input image\n",
    "    features = feature.hog(image, \n",
    "                           orientations=9, \n",
    "                           pixels_per_cell=(10, 10), \n",
    "                           cells_per_block=(2,2),\n",
    "                           transform_sqrt=True, \n",
    "                           block_norm=\"L1\"\n",
    "                           )\n",
    "    return features"
   ]
  },
  {
   "cell_type": "code",
   "execution_count": null,
   "metadata": {},
   "outputs": [],
   "source": [
    "def load_split(path):\n",
    "    # grab the list of images in the input directory, then initialize the list of data(i.e., images) and class labels\n",
    "    imagePaths = list(paths.list_images(path))\n",
    "    data = []\n",
    "    labels = []    \n",
    "    # loop over the image paths\n",
    "    for imagePath in imagePaths:\n",
    "        # extract the class label from the filename\n",
    "        label = imagePath.split(os.path.sep)[-2]\n",
    "        # load the input image, convert it to grayscale, and resize it to 200x2000 pixels, ignoring aspect ratio\n",
    "        image = cv2.imread(imagePath)\n",
    "        image = cv2.cvtColor(image, cv2.COLOR_BGR2GRAY)\n",
    "        image = cv2.resize(image, (200,200))\n",
    "        # Threshold the image such that the drawing appears as white on a black background\n",
    "        image = cv2.threshold(image,0,255, cv2.THRESH_BINARY_INV|cv2.THRESH_OTSU)[1]\n",
    "        # quantify the image\n",
    "        features = quantify_image(image)\n",
    "        # update the data and labels lists, respectively\n",
    "        data.append(features)\n",
    "        labels.append(label)\n",
    "    return (np.array(data), np.array(labels))"
   ]
  },
  {
   "cell_type": "code",
   "execution_count": null,
   "metadata": {},
   "outputs": [],
   "source": [
    "dataset_path = r'C:\\Users\\medical_robot\\Documents\\Python Scripts\\OpenCV+DL\\detect-parkinsons\\dataset\\wave'\n",
    "trials = 5\n",
    "trainingPath = os.path.sep.join([dataset_path,\"training\"])\n",
    "testingPath = os.path.sep.join([dataset_path, \"testing\"])\n",
    "\n",
    "# load the traning and testing data\n",
    "print(\"[INFO] loading data...\")\n",
    "(trainX, trainY) = load_split(trainingPath)\n",
    "(testX, testY) = load_split(testingPath)\n",
    "\n",
    "# Encode the labels as integers\n",
    "le = LabelEncoder()\n",
    "trainY = le.fit_transform(trainY)\n",
    "testY = le.transform(testY)\n",
    "\n",
    "#initialize or trials dicitonary\n",
    "trials = {}"
   ]
  },
  {
   "cell_type": "code",
   "execution_count": null,
   "metadata": {},
   "outputs": [],
   "source": [
    "# loop over the number of trials to run\n",
    "for i in range(0, trial_num):\n",
    "    # train the model\n",
    "    print(f\"[INFO] training model {i+1} of {trial_num}...\")\n",
    "    model = RandomForestClassifier(n_estimators=100)\n",
    "    model.fit(trainX, trainY)\n",
    "    \n",
    "    # make predictions on the testing data and initialize a dictionary to store our computed metreics\n",
    "    predictions = model.predict(testX)\n",
    "    metrics = {}\n",
    "    \n",
    "    # compute the confusion matrix and use it to derive the raw accuracy, ensitivity, and specificity\n",
    "    cm = confusion_matrix(testY, predictions).flatten()\n",
    "    (tn, fp, fn, tp) = cm\n",
    "    metrics[\"acc\"] = (tp + tn) / float(cm.sum())\n",
    "    metrics[\"sensitivity\"] = tp / float(tp + fn)\n",
    "    metrics[\"specificity\"] = tn / float(tn + fp)\n",
    "    \n",
    "    # loop over the metrics\n",
    "    for (k,v) in metrics.items():\n",
    "        # update the trialas dictionary with the list of values for the current metric\n",
    "        l = trials.get(k, [])\n",
    "        l.append(v)\n",
    "        trials[k] = l\n",
    "\n",
    "# loop over our metrics\n",
    "for metric in (\"acc\", \"sensitivity\", \"specificity\"):\n",
    "    # grab the list of values for the current metric, then compute the mean and standard deviation\n",
    "    values = trials[metric]\n",
    "    mean = np.mean(values)\n",
    "    std = np.std(values)\n",
    "    \n",
    "    # show the computed metrics for the statistic\n",
    "    print(metric)\n",
    "    print('='*len(metric))\n",
    "    print(f'mean={mean:.4f}, std={std:.4f} \\n')  "
   ]
  },
  {
   "cell_type": "code",
   "execution_count": null,
   "metadata": {},
   "outputs": [],
   "source": [
    "# randomly select a few images and then initialize the output image for the montage\n",
    "testingPaths = list(paths.list_images(testingPath))\n",
    "idxs = np.arange(0, len(testingPaths))\n",
    "idxs = np.random.choice(idxs, size=(25,), replace=False)\n",
    "images = []\n",
    "\n",
    "# loop over the trsting samples\n",
    "for i in idxs:\n",
    "    # load the teting image, clone it, and resize it\n",
    "    image = cv2.imread(testingPaths[i])\n",
    "    output = image.copy()\n",
    "    output = cv2.resize(output, (128,128))\n",
    "    \n",
    "    # pre-process the image in the same manner we did earlier\n",
    "    image = cv2.cvtColor(image, cv2.COLOR_BGR2GRAY)\n",
    "    image = cv2.resize(image, (200, 200))\n",
    "    image = cv2.threshold(image, 0, 255,cv2.THRESH_BINARY_INV | cv2.THRESH_OTSU)[1]\n",
    "    \n",
    "    # quantify the image and make predictions based on the extracted features using the last trained RF\n",
    "    features = quantify_image(image)\n",
    "    preds = model.predict([features])\n",
    "    label = le.inverse_transform(preds)[0]\n",
    "    \n",
    "    # draw the colored class label on the output image and add it to the set of output images\n",
    "    color = (0, 255, 0) if label == \"healthy\" else (0, 0, 255)\n",
    "    cv2.putText(output, label, (3, 20), cv2.FONT_HERSHEY_SIMPLEX, 0.5, color, 2)\n",
    "    images.append(output)    \n",
    "\n",
    "# create a montage using 128x128 \"titles\" with 5 rows and 5 columns\n",
    "montage = build_montages(images, (128,128), (5,5))[0]\n",
    "# show the output montage\n",
    "cv2.imshow(\"Output\", montage)\n",
    "cv2.waitKey(0)\n",
    "cv2.destroyAllWindows()"
   ]
  }
 ],
 "metadata": {
  "kernelspec": {
   "display_name": "Python 3",
   "language": "python",
   "name": "python3"
  },
  "language_info": {
   "codemirror_mode": {
    "name": "ipython",
    "version": 3
   },
   "file_extension": ".py",
   "mimetype": "text/x-python",
   "name": "python",
   "nbconvert_exporter": "python",
   "pygments_lexer": "ipython3",
   "version": "3.11.9"
  }
 },
 "nbformat": 4,
 "nbformat_minor": 2
}
